{
 "cells": [
  {
   "cell_type": "code",
   "execution_count": 28,
   "id": "fbc0078e",
   "metadata": {},
   "outputs": [
    {
     "data": {
      "text/plain": [
       "('Planet C', 34.16)"
      ]
     },
     "execution_count": 28,
     "metadata": {},
     "output_type": "execute_result"
    }
   ],
   "source": [
    "import numpy as np\n",
    "\n",
    "signals = {\n",
    "    'Alpha': [15, 18, 20, 17, 19],\n",
    "    'Beta': [23, 25, 28, 24, 26],\n",
    "    'Gamma': [12, 13, 15, 11, 14],\n",
    "    'Delta': [33, 32, 31, 30, 34],\n",
    "    'Epsilon': [25, 26, 27, 29, 28]\n",
    "}\n",
    "# For each planet, gather signals from A,B,C,D,E\n",
    "planets_signals = np.array(list(signals.values())).T\n",
    "\n",
    "variances = {}\n",
    "# Calculate variance for each planet\n",
    "for i, planet_signals in enumerate(planets_signals):\n",
    "    planet_name = f'Planet {chr(65 + i)}'  # A for Planet A, B for Planet B, etc.\n",
    "    variance = np.var(planet_signals)\n",
    "    variances[planet_name] = variance\n",
    "\n",
    "lowest_variance_planet = min(variances, key=variances.get)\n",
    "lowest_variance_value = variances[lowest_variance_planet]\n",
    "lowest_variance_planet, lowest_variance_value"
   ]
  },
  {
   "cell_type": "code",
   "execution_count": 29,
   "id": "ab012c46",
   "metadata": {},
   "outputs": [
    {
     "data": {
      "text/plain": [
       "{'Planet A': 55.839999999999996,\n",
       " 'Planet B': 43.760000000000005,\n",
       " 'Planet C': 34.16,\n",
       " 'Planet D': 52.55999999999999,\n",
       " 'Planet E': 48.96}"
      ]
     },
     "execution_count": 29,
     "metadata": {},
     "output_type": "execute_result"
    }
   ],
   "source": [
    "variances"
   ]
  }
 ],
 "metadata": {
  "kernelspec": {
   "display_name": "Python 3 (ipykernel)",
   "language": "python",
   "name": "python3"
  },
  "language_info": {
   "codemirror_mode": {
    "name": "ipython",
    "version": 3
   },
   "file_extension": ".py",
   "mimetype": "text/x-python",
   "name": "python",
   "nbconvert_exporter": "python",
   "pygments_lexer": "ipython3",
   "version": "3.11.5"
  }
 },
 "nbformat": 4,
 "nbformat_minor": 5
}
