{
 "cells": [
  {
   "cell_type": "code",
   "execution_count": 24,
   "id": "70ff1a61",
   "metadata": {},
   "outputs": [
    {
     "name": "stdout",
     "output_type": "stream",
     "text": [
      "In 2024, the creatures that can appear are: Griffin\n",
      "In 2025, the creatures that can appear are: Phoenix\n",
      "In 2026, the creatures that can appear are: \n",
      "In 2027, the creatures that can appear are: Dragon\n",
      "In 2028, the creatures that can appear are: Griffin\n",
      "The year where no creature is summoned is: 2026\n"
     ]
    }
   ],
   "source": [
    "import math\n",
    "\n",
    "# check leap year (Griffin)\n",
    "def is_leap_year(year):\n",
    "    return year % 4 == 0 and (year % 100 != 0 or year % 400 == 0)\n",
    "\n",
    "# check sum of digits of the year % 9 == 0 (Phoenix)\n",
    "def sum_of_digits_divisible_by_9(year):\n",
    "    return sum(int(digit) for digit in str(year)) % 9 == 0\n",
    "\n",
    "# check year is prime (Dragon)\n",
    "def is_prime(year):\n",
    "    if year <= 1:\n",
    "        return False\n",
    "    for i in range(2, int((year//2) + 1)):\n",
    "        if year % i == 0:\n",
    "            return False\n",
    "    return True\n",
    "# 2024 - 2028\n",
    "years = list(range(2024, 2029))\n",
    "\n",
    "creature_summoning = {}\n",
    "\n",
    "for year in years:\n",
    "    creatures = []\n",
    "    if is_leap_year(year):\n",
    "        creatures.append(\"Griffin\")\n",
    "    if sum_of_digits_divisible_by_9(year):\n",
    "        creatures.append(\"Phoenix\")\n",
    "    if is_prime(year):\n",
    "        creatures.append(\"Dragon\")\n",
    "    \n",
    "    creature_summoning[year] = creatures\n",
    "    \n",
    "for year, creatures in creature_summoning.items():\n",
    "    print(f\"In {year}, the creatures that can appear are: {', '.join(creatures)}\")\n",
    "\n",
    "\n",
    "# find the year where no creature is summoned\n",
    "def find_year_with_no_summoning():\n",
    "    for year, creatures in creature_summoning.items():\n",
    "        if not creatures:  \n",
    "            return year\n",
    "year_no_summoning = find_year_with_no_summoning()\n",
    "print(f\"The year where no creature is summoned is: {year_no_summoning}\")\n"
   ]
  },
  {
   "cell_type": "code",
   "execution_count": 25,
   "id": "5c095cd0",
   "metadata": {},
   "outputs": [
    {
     "data": {
      "text/plain": [
       "{2024: ['Griffin'],\n",
       " 2025: ['Phoenix'],\n",
       " 2026: [],\n",
       " 2027: ['Dragon'],\n",
       " 2028: ['Griffin']}"
      ]
     },
     "execution_count": 25,
     "metadata": {},
     "output_type": "execute_result"
    }
   ],
   "source": [
    "creature_summoning"
   ]
  }
 ],
 "metadata": {
  "kernelspec": {
   "display_name": "Python 3 (ipykernel)",
   "language": "python",
   "name": "python3"
  },
  "language_info": {
   "codemirror_mode": {
    "name": "ipython",
    "version": 3
   },
   "file_extension": ".py",
   "mimetype": "text/x-python",
   "name": "python",
   "nbconvert_exporter": "python",
   "pygments_lexer": "ipython3",
   "version": "3.11.5"
  }
 },
 "nbformat": 4,
 "nbformat_minor": 5
}
