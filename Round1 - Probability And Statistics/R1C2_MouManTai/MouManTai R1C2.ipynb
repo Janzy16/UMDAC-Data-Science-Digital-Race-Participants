{
 "cells": [
  {
   "cell_type": "code",
   "execution_count": 24,
   "id": "0f3408ff",
   "metadata": {},
   "outputs": [
    {
     "name": "stdout",
     "output_type": "stream",
     "text": [
      "3.0%\n"
     ]
    }
   ],
   "source": [
    "import numpy as np\n",
    "from scipy.stats import binom\n",
    "\n",
    "# Probability of gold fruit\n",
    "prob_gold = 0.4\n",
    "\n",
    "# Fruit counts ,where n = [10,30]\n",
    "n_values = np.arange(10, 31)\n",
    "\n",
    "# P(X>=15), where there at least 15 gold fruits on any given tree\n",
    "def prob_at_least_15_gold(n, prob_gold):\n",
    "    # P(X>=15) = 1 - P(X<=14)\n",
    "    # refer to the working on png.file\n",
    "    return 1 - binom.cdf(14, n, prob_gold)\n",
    "\n",
    "# Initialize an empty list to store probabilities\n",
    "probabilities = []\n",
    "\n",
    "# Calculate the probability for each n using a for loop\n",
    "for n in n_values:\n",
    "    probability = prob_at_least_15_gold(n, prob_gold)\n",
    "    probabilities.append(probability)\n",
    "    \n",
    "avg_probability = np.mean(probabilities)\n",
    "\n",
    "# Convert to percentage and format to one decimal place\n",
    "avg_probability_percentage = avg_probability * 100\n",
    "print(f\"{avg_probability_percentage:.1f}%\")"
   ]
  },
  {
   "cell_type": "code",
   "execution_count": 18,
   "id": "9c31a4d5",
   "metadata": {},
   "outputs": [
    {
     "data": {
      "text/plain": [
       "array([10, 11, 12, 13, 14, 15, 16, 17, 18, 19, 20, 21, 22, 23, 24, 25, 26,\n",
       "       27, 28, 29, 30])"
      ]
     },
     "execution_count": 18,
     "metadata": {},
     "output_type": "execute_result"
    }
   ],
   "source": [
    "n_values"
   ]
  },
  {
   "cell_type": "markdown",
   "id": "9c757fae",
   "metadata": {},
   "source": [
    "# Final Answer:\n",
    "# The probablity of at least 15 gold fruits obn any given tree is 3.0%"
   ]
  }
 ],
 "metadata": {
  "kernelspec": {
   "display_name": "Python 3 (ipykernel)",
   "language": "python",
   "name": "python3"
  },
  "language_info": {
   "codemirror_mode": {
    "name": "ipython",
    "version": 3
   },
   "file_extension": ".py",
   "mimetype": "text/x-python",
   "name": "python",
   "nbconvert_exporter": "python",
   "pygments_lexer": "ipython3",
   "version": "3.11.5"
  }
 },
 "nbformat": 4,
 "nbformat_minor": 5
}
